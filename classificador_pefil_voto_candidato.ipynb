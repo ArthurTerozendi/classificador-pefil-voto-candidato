{
  "nbformat": 4,
  "nbformat_minor": 0,
  "metadata": {
    "colab": {
      "provenance": [],
      "include_colab_link": true
    },
    "kernelspec": {
      "name": "python3",
      "display_name": "Python 3"
    },
    "language_info": {
      "name": "python"
    }
  },
  "cells": [
    {
      "cell_type": "markdown",
      "metadata": {
        "id": "view-in-github",
        "colab_type": "text"
      },
      "source": [
        "<a href=\"https://colab.research.google.com/github/ArthurTerozendi/classificador-pefil-voto-candidato/blob/main/classificador_pefil_voto_candidato.ipynb\" target=\"_parent\"><img src=\"https://colab.research.google.com/assets/colab-badge.svg\" alt=\"Open In Colab\"/></a>"
      ]
    },
    {
      "cell_type": "markdown",
      "source": [
        "### Clonando repositório"
      ],
      "metadata": {
        "id": "G2gXPmvTOhP0"
      }
    },
    {
      "cell_type": "code",
      "execution_count": 1,
      "metadata": {
        "colab": {
          "base_uri": "https://localhost:8080/"
        },
        "id": "6z6vV4RDJSGR",
        "outputId": "b11450be-28b4-4074-d0fb-c7483748efc5"
      },
      "outputs": [
        {
          "output_type": "stream",
          "name": "stdout",
          "text": [
            "Cloning into 'classificador-pefil-voto-candidato'...\n",
            "remote: Enumerating objects: 15, done.\u001b[K\n",
            "remote: Counting objects: 100% (15/15), done.\u001b[K\n",
            "remote: Compressing objects: 100% (14/14), done.\u001b[K\n",
            "remote: Total 15 (delta 3), reused 4 (delta 0), pack-reused 0\u001b[K\n",
            "Unpacking objects: 100% (15/15), done.\n"
          ]
        }
      ],
      "source": [
        "!git clone https://github.com/ArthurTerozendi/classificador-pefil-voto-candidato.git"
      ]
    },
    {
      "cell_type": "markdown",
      "source": [
        "# Imports"
      ],
      "metadata": {
        "id": "u-UfEVcVOqfC"
      }
    },
    {
      "cell_type": "code",
      "source": [
        "import pandas as pd\n",
        "import matplotlib.pyplot as plt"
      ],
      "metadata": {
        "id": "eQMnDXKEOPOX"
      },
      "execution_count": 2,
      "outputs": []
    },
    {
      "cell_type": "code",
      "source": [
        "bem_candidatos = pd.read_csv('classificador-pefil-voto-candidato/database/bem_candidato_2022_MG.csv', ',', encoding='latin1', usecols=['SQ_CANDIDATO', 'VR_BEM_CANDIDATO'])\n",
        "consulta_cand = pd.read_csv('classificador-pefil-voto-candidato/database/consulta_cand_2022_MG.csv', ',', encoding='latin1', usecols=['DS_CARGO', 'SQ_CANDIDATO', 'NM_CANDIDATO', 'DT_NASCIMENTO', 'DS_GENERO', 'DS_ESTADO_CIVIL', 'DS_COR_RACA', 'DS_OCUPACAO'])"
      ],
      "metadata": {
        "colab": {
          "base_uri": "https://localhost:8080/"
        },
        "id": "HFQM4n2tOygL",
        "outputId": "8bc1ee79-0db6-4683-efe7-11e996bfcca8"
      },
      "execution_count": 5,
      "outputs": [
        {
          "output_type": "stream",
          "name": "stderr",
          "text": [
            "/usr/local/lib/python3.8/dist-packages/IPython/core/interactiveshell.py:3326: FutureWarning: In a future version of pandas all arguments of read_csv except for the argument 'filepath_or_buffer' will be keyword-only\n",
            "  exec(code_obj, self.user_global_ns, self.user_ns)\n"
          ]
        }
      ]
    },
    {
      "cell_type": "markdown",
      "source": [
        "- Somatório do valor dos bens de cada canditado"
      ],
      "metadata": {
        "id": "-k2BKkCuRBCe"
      }
    },
    {
      "cell_type": "code",
      "source": [
        "bem_candidatos['VR_BEM_CANDIDATO'] = bem_candidatos['VR_BEM_CANDIDATO'].apply(lambda x: x.replace(',', '.'))\n",
        "bem_candidatos['VR_BEM_CANDIDATO'] = pd.to_numeric(bem_candidatos['VR_BEM_CANDIDATO'], downcast='float')\n",
        "bem_candidatos_sum = bem_candidatos.groupby(['SQ_CANDIDATO']).sum()\n",
        "bem_candidatos_sum"
      ],
      "metadata": {
        "colab": {
          "base_uri": "https://localhost:8080/",
          "height": 455
        },
        "id": "u6adOANrPtEa",
        "outputId": "d9c7c47a-31a6-4352-87cf-1614dae54284"
      },
      "execution_count": 6,
      "outputs": [
        {
          "output_type": "execute_result",
          "data": {
            "text/plain": [
              "              VR_BEM_CANDIDATO\n",
              "SQ_CANDIDATO                  \n",
              "130001595976      2.195987e+07\n",
              "130001595978      5.700000e+05\n",
              "130001595979      3.332248e+05\n",
              "130001595983      9.090000e+05\n",
              "130001595984      2.073415e+06\n",
              "...                        ...\n",
              "130001737057      5.000000e+05\n",
              "130001737059      1.500000e+04\n",
              "130001737060      1.360000e+04\n",
              "130001738659      4.030000e+05\n",
              "130001738661      1.000000e+05\n",
              "\n",
              "[1669 rows x 1 columns]"
            ],
            "text/html": [
              "\n",
              "  <div id=\"df-96f98d43-0d34-4699-b351-b069f4f24554\">\n",
              "    <div class=\"colab-df-container\">\n",
              "      <div>\n",
              "<style scoped>\n",
              "    .dataframe tbody tr th:only-of-type {\n",
              "        vertical-align: middle;\n",
              "    }\n",
              "\n",
              "    .dataframe tbody tr th {\n",
              "        vertical-align: top;\n",
              "    }\n",
              "\n",
              "    .dataframe thead th {\n",
              "        text-align: right;\n",
              "    }\n",
              "</style>\n",
              "<table border=\"1\" class=\"dataframe\">\n",
              "  <thead>\n",
              "    <tr style=\"text-align: right;\">\n",
              "      <th></th>\n",
              "      <th>VR_BEM_CANDIDATO</th>\n",
              "    </tr>\n",
              "    <tr>\n",
              "      <th>SQ_CANDIDATO</th>\n",
              "      <th></th>\n",
              "    </tr>\n",
              "  </thead>\n",
              "  <tbody>\n",
              "    <tr>\n",
              "      <th>130001595976</th>\n",
              "      <td>2.195987e+07</td>\n",
              "    </tr>\n",
              "    <tr>\n",
              "      <th>130001595978</th>\n",
              "      <td>5.700000e+05</td>\n",
              "    </tr>\n",
              "    <tr>\n",
              "      <th>130001595979</th>\n",
              "      <td>3.332248e+05</td>\n",
              "    </tr>\n",
              "    <tr>\n",
              "      <th>130001595983</th>\n",
              "      <td>9.090000e+05</td>\n",
              "    </tr>\n",
              "    <tr>\n",
              "      <th>130001595984</th>\n",
              "      <td>2.073415e+06</td>\n",
              "    </tr>\n",
              "    <tr>\n",
              "      <th>...</th>\n",
              "      <td>...</td>\n",
              "    </tr>\n",
              "    <tr>\n",
              "      <th>130001737057</th>\n",
              "      <td>5.000000e+05</td>\n",
              "    </tr>\n",
              "    <tr>\n",
              "      <th>130001737059</th>\n",
              "      <td>1.500000e+04</td>\n",
              "    </tr>\n",
              "    <tr>\n",
              "      <th>130001737060</th>\n",
              "      <td>1.360000e+04</td>\n",
              "    </tr>\n",
              "    <tr>\n",
              "      <th>130001738659</th>\n",
              "      <td>4.030000e+05</td>\n",
              "    </tr>\n",
              "    <tr>\n",
              "      <th>130001738661</th>\n",
              "      <td>1.000000e+05</td>\n",
              "    </tr>\n",
              "  </tbody>\n",
              "</table>\n",
              "<p>1669 rows × 1 columns</p>\n",
              "</div>\n",
              "      <button class=\"colab-df-convert\" onclick=\"convertToInteractive('df-96f98d43-0d34-4699-b351-b069f4f24554')\"\n",
              "              title=\"Convert this dataframe to an interactive table.\"\n",
              "              style=\"display:none;\">\n",
              "        \n",
              "  <svg xmlns=\"http://www.w3.org/2000/svg\" height=\"24px\"viewBox=\"0 0 24 24\"\n",
              "       width=\"24px\">\n",
              "    <path d=\"M0 0h24v24H0V0z\" fill=\"none\"/>\n",
              "    <path d=\"M18.56 5.44l.94 2.06.94-2.06 2.06-.94-2.06-.94-.94-2.06-.94 2.06-2.06.94zm-11 1L8.5 8.5l.94-2.06 2.06-.94-2.06-.94L8.5 2.5l-.94 2.06-2.06.94zm10 10l.94 2.06.94-2.06 2.06-.94-2.06-.94-.94-2.06-.94 2.06-2.06.94z\"/><path d=\"M17.41 7.96l-1.37-1.37c-.4-.4-.92-.59-1.43-.59-.52 0-1.04.2-1.43.59L10.3 9.45l-7.72 7.72c-.78.78-.78 2.05 0 2.83L4 21.41c.39.39.9.59 1.41.59.51 0 1.02-.2 1.41-.59l7.78-7.78 2.81-2.81c.8-.78.8-2.07 0-2.86zM5.41 20L4 18.59l7.72-7.72 1.47 1.35L5.41 20z\"/>\n",
              "  </svg>\n",
              "      </button>\n",
              "      \n",
              "  <style>\n",
              "    .colab-df-container {\n",
              "      display:flex;\n",
              "      flex-wrap:wrap;\n",
              "      gap: 12px;\n",
              "    }\n",
              "\n",
              "    .colab-df-convert {\n",
              "      background-color: #E8F0FE;\n",
              "      border: none;\n",
              "      border-radius: 50%;\n",
              "      cursor: pointer;\n",
              "      display: none;\n",
              "      fill: #1967D2;\n",
              "      height: 32px;\n",
              "      padding: 0 0 0 0;\n",
              "      width: 32px;\n",
              "    }\n",
              "\n",
              "    .colab-df-convert:hover {\n",
              "      background-color: #E2EBFA;\n",
              "      box-shadow: 0px 1px 2px rgba(60, 64, 67, 0.3), 0px 1px 3px 1px rgba(60, 64, 67, 0.15);\n",
              "      fill: #174EA6;\n",
              "    }\n",
              "\n",
              "    [theme=dark] .colab-df-convert {\n",
              "      background-color: #3B4455;\n",
              "      fill: #D2E3FC;\n",
              "    }\n",
              "\n",
              "    [theme=dark] .colab-df-convert:hover {\n",
              "      background-color: #434B5C;\n",
              "      box-shadow: 0px 1px 3px 1px rgba(0, 0, 0, 0.15);\n",
              "      filter: drop-shadow(0px 1px 2px rgba(0, 0, 0, 0.3));\n",
              "      fill: #FFFFFF;\n",
              "    }\n",
              "  </style>\n",
              "\n",
              "      <script>\n",
              "        const buttonEl =\n",
              "          document.querySelector('#df-96f98d43-0d34-4699-b351-b069f4f24554 button.colab-df-convert');\n",
              "        buttonEl.style.display =\n",
              "          google.colab.kernel.accessAllowed ? 'block' : 'none';\n",
              "\n",
              "        async function convertToInteractive(key) {\n",
              "          const element = document.querySelector('#df-96f98d43-0d34-4699-b351-b069f4f24554');\n",
              "          const dataTable =\n",
              "            await google.colab.kernel.invokeFunction('convertToInteractive',\n",
              "                                                     [key], {});\n",
              "          if (!dataTable) return;\n",
              "\n",
              "          const docLinkHtml = 'Like what you see? Visit the ' +\n",
              "            '<a target=\"_blank\" href=https://colab.research.google.com/notebooks/data_table.ipynb>data table notebook</a>'\n",
              "            + ' to learn more about interactive tables.';\n",
              "          element.innerHTML = '';\n",
              "          dataTable['output_type'] = 'display_data';\n",
              "          await google.colab.output.renderOutput(dataTable, element);\n",
              "          const docLink = document.createElement('div');\n",
              "          docLink.innerHTML = docLinkHtml;\n",
              "          element.appendChild(docLink);\n",
              "        }\n",
              "      </script>\n",
              "    </div>\n",
              "  </div>\n",
              "  "
            ]
          },
          "metadata": {},
          "execution_count": 6
        }
      ]
    },
    {
      "cell_type": "markdown",
      "source": [
        "- Pegando apenas os Deputados"
      ],
      "metadata": {
        "id": "HytVbfMFmQS0"
      }
    },
    {
      "cell_type": "code",
      "source": [
        "dEstadual = consulta_cand.query(\"DS_CARGO == 'DEPUTADO ESTADUAL'\", inplace=False)\n",
        "dFederal = consulta_cand.query(\"DS_CARGO == 'DEPUTADO FEDERAL'\", inplace=False)\n",
        "deputados = pd.concat([dEstadual, dFederal])\n",
        "deputados"
      ],
      "metadata": {
        "colab": {
          "base_uri": "https://localhost:8080/",
          "height": 424
        },
        "id": "f2KMpZ7eST32",
        "outputId": "c6e67c63-a44d-4faa-e364-d99ae3b7ef6f"
      },
      "execution_count": 7,
      "outputs": [
        {
          "output_type": "execute_result",
          "data": {
            "text/plain": [
              "               DS_CARGO  SQ_CANDIDATO                  NM_CANDIDATO  \\\n",
              "3     DEPUTADO ESTADUAL  130001607719          JARDEL MOIA MONTEIRO   \n",
              "5     DEPUTADO ESTADUAL  130001615626       REINALDO LUCIO DA SILVA   \n",
              "6     DEPUTADO ESTADUAL  130001634278             ELIES GOMES COSTA   \n",
              "9     DEPUTADO ESTADUAL  130001669318         JOSE GONZAGA DE SOUZA   \n",
              "13    DEPUTADO ESTADUAL  130001607418        SILVIA DA CRUZ MESSIAS   \n",
              "...                 ...           ...                           ...   \n",
              "2549   DEPUTADO FEDERAL  130001607279          DINEY LENON DE PAULO   \n",
              "2551   DEPUTADO FEDERAL  130001606187        ANGELITA MOREIRA ROCHA   \n",
              "2552   DEPUTADO FEDERAL  130001606191         ERICK SANTOS NAZARETH   \n",
              "2553   DEPUTADO FEDERAL  130001607565    RICARDO GONï¿½ALVES CAMPOS   \n",
              "2556   DEPUTADO FEDERAL  130001668937  NEIRONILSON FREITAS DA COSTA   \n",
              "\n",
              "     DT_NASCIMENTO  DS_GENERO DS_ESTADO_CIVIL DS_COR_RACA  \\\n",
              "3       24/01/1984  MASCULINO       CASADO(A)       PARDA   \n",
              "5       30/08/1972  MASCULINO       CASADO(A)       PARDA   \n",
              "6       23/02/1997  MASCULINO       CASADO(A)       PARDA   \n",
              "9       19/05/1961  MASCULINO       CASADO(A)       PRETA   \n",
              "13      13/08/1964   FEMININO       CASADO(A)      BRANCA   \n",
              "...            ...        ...             ...         ...   \n",
              "2549    16/06/1981  MASCULINO     SOLTEIRO(A)      BRANCA   \n",
              "2551    20/09/1966   FEMININO     SOLTEIRO(A)      BRANCA   \n",
              "2552    20/12/1980  MASCULINO       CASADO(A)       PARDA   \n",
              "2553    13/11/1970  MASCULINO       CASADO(A)      BRANCA   \n",
              "2556    06/10/1976  MASCULINO       CASADO(A)       PARDA   \n",
              "\n",
              "                                            DS_OCUPACAO  \n",
              "3                                                OUTROS  \n",
              "5                                                OUTROS  \n",
              "6                                          EMPRESï¿½RIO  \n",
              "9     LOCUTOR E COMENTARISTA DE Rï¿½DIO E TELEVISï¿½...  \n",
              "13                                             VEREADOR  \n",
              "...                                                 ...  \n",
              "2549                        PROFESSOR DE ENSINO Mï¿½DIO  \n",
              "2551             APOSENTADO (EXCETO SERVIDOR Pï¿½BLICO)  \n",
              "2552                                       EMPRESï¿½RIO  \n",
              "2553                                         ENGENHEIRO  \n",
              "2556                                             OUTROS  \n",
              "\n",
              "[2514 rows x 8 columns]"
            ],
            "text/html": [
              "\n",
              "  <div id=\"df-84379d8c-3383-4510-a2ce-c65bcab6b364\">\n",
              "    <div class=\"colab-df-container\">\n",
              "      <div>\n",
              "<style scoped>\n",
              "    .dataframe tbody tr th:only-of-type {\n",
              "        vertical-align: middle;\n",
              "    }\n",
              "\n",
              "    .dataframe tbody tr th {\n",
              "        vertical-align: top;\n",
              "    }\n",
              "\n",
              "    .dataframe thead th {\n",
              "        text-align: right;\n",
              "    }\n",
              "</style>\n",
              "<table border=\"1\" class=\"dataframe\">\n",
              "  <thead>\n",
              "    <tr style=\"text-align: right;\">\n",
              "      <th></th>\n",
              "      <th>DS_CARGO</th>\n",
              "      <th>SQ_CANDIDATO</th>\n",
              "      <th>NM_CANDIDATO</th>\n",
              "      <th>DT_NASCIMENTO</th>\n",
              "      <th>DS_GENERO</th>\n",
              "      <th>DS_ESTADO_CIVIL</th>\n",
              "      <th>DS_COR_RACA</th>\n",
              "      <th>DS_OCUPACAO</th>\n",
              "    </tr>\n",
              "  </thead>\n",
              "  <tbody>\n",
              "    <tr>\n",
              "      <th>3</th>\n",
              "      <td>DEPUTADO ESTADUAL</td>\n",
              "      <td>130001607719</td>\n",
              "      <td>JARDEL MOIA MONTEIRO</td>\n",
              "      <td>24/01/1984</td>\n",
              "      <td>MASCULINO</td>\n",
              "      <td>CASADO(A)</td>\n",
              "      <td>PARDA</td>\n",
              "      <td>OUTROS</td>\n",
              "    </tr>\n",
              "    <tr>\n",
              "      <th>5</th>\n",
              "      <td>DEPUTADO ESTADUAL</td>\n",
              "      <td>130001615626</td>\n",
              "      <td>REINALDO LUCIO DA SILVA</td>\n",
              "      <td>30/08/1972</td>\n",
              "      <td>MASCULINO</td>\n",
              "      <td>CASADO(A)</td>\n",
              "      <td>PARDA</td>\n",
              "      <td>OUTROS</td>\n",
              "    </tr>\n",
              "    <tr>\n",
              "      <th>6</th>\n",
              "      <td>DEPUTADO ESTADUAL</td>\n",
              "      <td>130001634278</td>\n",
              "      <td>ELIES GOMES COSTA</td>\n",
              "      <td>23/02/1997</td>\n",
              "      <td>MASCULINO</td>\n",
              "      <td>CASADO(A)</td>\n",
              "      <td>PARDA</td>\n",
              "      <td>EMPRESï¿½RIO</td>\n",
              "    </tr>\n",
              "    <tr>\n",
              "      <th>9</th>\n",
              "      <td>DEPUTADO ESTADUAL</td>\n",
              "      <td>130001669318</td>\n",
              "      <td>JOSE GONZAGA DE SOUZA</td>\n",
              "      <td>19/05/1961</td>\n",
              "      <td>MASCULINO</td>\n",
              "      <td>CASADO(A)</td>\n",
              "      <td>PRETA</td>\n",
              "      <td>LOCUTOR E COMENTARISTA DE Rï¿½DIO E TELEVISï¿½...</td>\n",
              "    </tr>\n",
              "    <tr>\n",
              "      <th>13</th>\n",
              "      <td>DEPUTADO ESTADUAL</td>\n",
              "      <td>130001607418</td>\n",
              "      <td>SILVIA DA CRUZ MESSIAS</td>\n",
              "      <td>13/08/1964</td>\n",
              "      <td>FEMININO</td>\n",
              "      <td>CASADO(A)</td>\n",
              "      <td>BRANCA</td>\n",
              "      <td>VEREADOR</td>\n",
              "    </tr>\n",
              "    <tr>\n",
              "      <th>...</th>\n",
              "      <td>...</td>\n",
              "      <td>...</td>\n",
              "      <td>...</td>\n",
              "      <td>...</td>\n",
              "      <td>...</td>\n",
              "      <td>...</td>\n",
              "      <td>...</td>\n",
              "      <td>...</td>\n",
              "    </tr>\n",
              "    <tr>\n",
              "      <th>2549</th>\n",
              "      <td>DEPUTADO FEDERAL</td>\n",
              "      <td>130001607279</td>\n",
              "      <td>DINEY LENON DE PAULO</td>\n",
              "      <td>16/06/1981</td>\n",
              "      <td>MASCULINO</td>\n",
              "      <td>SOLTEIRO(A)</td>\n",
              "      <td>BRANCA</td>\n",
              "      <td>PROFESSOR DE ENSINO Mï¿½DIO</td>\n",
              "    </tr>\n",
              "    <tr>\n",
              "      <th>2551</th>\n",
              "      <td>DEPUTADO FEDERAL</td>\n",
              "      <td>130001606187</td>\n",
              "      <td>ANGELITA MOREIRA ROCHA</td>\n",
              "      <td>20/09/1966</td>\n",
              "      <td>FEMININO</td>\n",
              "      <td>SOLTEIRO(A)</td>\n",
              "      <td>BRANCA</td>\n",
              "      <td>APOSENTADO (EXCETO SERVIDOR Pï¿½BLICO)</td>\n",
              "    </tr>\n",
              "    <tr>\n",
              "      <th>2552</th>\n",
              "      <td>DEPUTADO FEDERAL</td>\n",
              "      <td>130001606191</td>\n",
              "      <td>ERICK SANTOS NAZARETH</td>\n",
              "      <td>20/12/1980</td>\n",
              "      <td>MASCULINO</td>\n",
              "      <td>CASADO(A)</td>\n",
              "      <td>PARDA</td>\n",
              "      <td>EMPRESï¿½RIO</td>\n",
              "    </tr>\n",
              "    <tr>\n",
              "      <th>2553</th>\n",
              "      <td>DEPUTADO FEDERAL</td>\n",
              "      <td>130001607565</td>\n",
              "      <td>RICARDO GONï¿½ALVES CAMPOS</td>\n",
              "      <td>13/11/1970</td>\n",
              "      <td>MASCULINO</td>\n",
              "      <td>CASADO(A)</td>\n",
              "      <td>BRANCA</td>\n",
              "      <td>ENGENHEIRO</td>\n",
              "    </tr>\n",
              "    <tr>\n",
              "      <th>2556</th>\n",
              "      <td>DEPUTADO FEDERAL</td>\n",
              "      <td>130001668937</td>\n",
              "      <td>NEIRONILSON FREITAS DA COSTA</td>\n",
              "      <td>06/10/1976</td>\n",
              "      <td>MASCULINO</td>\n",
              "      <td>CASADO(A)</td>\n",
              "      <td>PARDA</td>\n",
              "      <td>OUTROS</td>\n",
              "    </tr>\n",
              "  </tbody>\n",
              "</table>\n",
              "<p>2514 rows × 8 columns</p>\n",
              "</div>\n",
              "      <button class=\"colab-df-convert\" onclick=\"convertToInteractive('df-84379d8c-3383-4510-a2ce-c65bcab6b364')\"\n",
              "              title=\"Convert this dataframe to an interactive table.\"\n",
              "              style=\"display:none;\">\n",
              "        \n",
              "  <svg xmlns=\"http://www.w3.org/2000/svg\" height=\"24px\"viewBox=\"0 0 24 24\"\n",
              "       width=\"24px\">\n",
              "    <path d=\"M0 0h24v24H0V0z\" fill=\"none\"/>\n",
              "    <path d=\"M18.56 5.44l.94 2.06.94-2.06 2.06-.94-2.06-.94-.94-2.06-.94 2.06-2.06.94zm-11 1L8.5 8.5l.94-2.06 2.06-.94-2.06-.94L8.5 2.5l-.94 2.06-2.06.94zm10 10l.94 2.06.94-2.06 2.06-.94-2.06-.94-.94-2.06-.94 2.06-2.06.94z\"/><path d=\"M17.41 7.96l-1.37-1.37c-.4-.4-.92-.59-1.43-.59-.52 0-1.04.2-1.43.59L10.3 9.45l-7.72 7.72c-.78.78-.78 2.05 0 2.83L4 21.41c.39.39.9.59 1.41.59.51 0 1.02-.2 1.41-.59l7.78-7.78 2.81-2.81c.8-.78.8-2.07 0-2.86zM5.41 20L4 18.59l7.72-7.72 1.47 1.35L5.41 20z\"/>\n",
              "  </svg>\n",
              "      </button>\n",
              "      \n",
              "  <style>\n",
              "    .colab-df-container {\n",
              "      display:flex;\n",
              "      flex-wrap:wrap;\n",
              "      gap: 12px;\n",
              "    }\n",
              "\n",
              "    .colab-df-convert {\n",
              "      background-color: #E8F0FE;\n",
              "      border: none;\n",
              "      border-radius: 50%;\n",
              "      cursor: pointer;\n",
              "      display: none;\n",
              "      fill: #1967D2;\n",
              "      height: 32px;\n",
              "      padding: 0 0 0 0;\n",
              "      width: 32px;\n",
              "    }\n",
              "\n",
              "    .colab-df-convert:hover {\n",
              "      background-color: #E2EBFA;\n",
              "      box-shadow: 0px 1px 2px rgba(60, 64, 67, 0.3), 0px 1px 3px 1px rgba(60, 64, 67, 0.15);\n",
              "      fill: #174EA6;\n",
              "    }\n",
              "\n",
              "    [theme=dark] .colab-df-convert {\n",
              "      background-color: #3B4455;\n",
              "      fill: #D2E3FC;\n",
              "    }\n",
              "\n",
              "    [theme=dark] .colab-df-convert:hover {\n",
              "      background-color: #434B5C;\n",
              "      box-shadow: 0px 1px 3px 1px rgba(0, 0, 0, 0.15);\n",
              "      filter: drop-shadow(0px 1px 2px rgba(0, 0, 0, 0.3));\n",
              "      fill: #FFFFFF;\n",
              "    }\n",
              "  </style>\n",
              "\n",
              "      <script>\n",
              "        const buttonEl =\n",
              "          document.querySelector('#df-84379d8c-3383-4510-a2ce-c65bcab6b364 button.colab-df-convert');\n",
              "        buttonEl.style.display =\n",
              "          google.colab.kernel.accessAllowed ? 'block' : 'none';\n",
              "\n",
              "        async function convertToInteractive(key) {\n",
              "          const element = document.querySelector('#df-84379d8c-3383-4510-a2ce-c65bcab6b364');\n",
              "          const dataTable =\n",
              "            await google.colab.kernel.invokeFunction('convertToInteractive',\n",
              "                                                     [key], {});\n",
              "          if (!dataTable) return;\n",
              "\n",
              "          const docLinkHtml = 'Like what you see? Visit the ' +\n",
              "            '<a target=\"_blank\" href=https://colab.research.google.com/notebooks/data_table.ipynb>data table notebook</a>'\n",
              "            + ' to learn more about interactive tables.';\n",
              "          element.innerHTML = '';\n",
              "          dataTable['output_type'] = 'display_data';\n",
              "          await google.colab.output.renderOutput(dataTable, element);\n",
              "          const docLink = document.createElement('div');\n",
              "          docLink.innerHTML = docLinkHtml;\n",
              "          element.appendChild(docLink);\n",
              "        }\n",
              "      </script>\n",
              "    </div>\n",
              "  </div>\n",
              "  "
            ]
          },
          "metadata": {},
          "execution_count": 7
        }
      ]
    },
    {
      "cell_type": "markdown",
      "source": [
        "- Junção das duas tabelas"
      ],
      "metadata": {
        "id": "KqQ2trVqmVlQ"
      }
    },
    {
      "cell_type": "code",
      "source": [
        "registroCand = pd.merge(deputados, bem_candidatos_sum, how='left', left_on='SQ_CANDIDATO', right_on='SQ_CANDIDATO')\n",
        "registroCand"
      ],
      "metadata": {
        "colab": {
          "base_uri": "https://localhost:8080/",
          "height": 589
        },
        "id": "lwYZZQ7ucU2e",
        "outputId": "bd8d5d11-8826-4ced-b4da-1919a003f25f"
      },
      "execution_count": 8,
      "outputs": [
        {
          "output_type": "execute_result",
          "data": {
            "text/plain": [
              "               DS_CARGO  SQ_CANDIDATO                  NM_CANDIDATO  \\\n",
              "0     DEPUTADO ESTADUAL  130001607719          JARDEL MOIA MONTEIRO   \n",
              "1     DEPUTADO ESTADUAL  130001615626       REINALDO LUCIO DA SILVA   \n",
              "2     DEPUTADO ESTADUAL  130001634278             ELIES GOMES COSTA   \n",
              "3     DEPUTADO ESTADUAL  130001669318         JOSE GONZAGA DE SOUZA   \n",
              "4     DEPUTADO ESTADUAL  130001607418        SILVIA DA CRUZ MESSIAS   \n",
              "...                 ...           ...                           ...   \n",
              "2509   DEPUTADO FEDERAL  130001607279          DINEY LENON DE PAULO   \n",
              "2510   DEPUTADO FEDERAL  130001606187        ANGELITA MOREIRA ROCHA   \n",
              "2511   DEPUTADO FEDERAL  130001606191         ERICK SANTOS NAZARETH   \n",
              "2512   DEPUTADO FEDERAL  130001607565    RICARDO GONï¿½ALVES CAMPOS   \n",
              "2513   DEPUTADO FEDERAL  130001668937  NEIRONILSON FREITAS DA COSTA   \n",
              "\n",
              "     DT_NASCIMENTO  DS_GENERO DS_ESTADO_CIVIL DS_COR_RACA  \\\n",
              "0       24/01/1984  MASCULINO       CASADO(A)       PARDA   \n",
              "1       30/08/1972  MASCULINO       CASADO(A)       PARDA   \n",
              "2       23/02/1997  MASCULINO       CASADO(A)       PARDA   \n",
              "3       19/05/1961  MASCULINO       CASADO(A)       PRETA   \n",
              "4       13/08/1964   FEMININO       CASADO(A)      BRANCA   \n",
              "...            ...        ...             ...         ...   \n",
              "2509    16/06/1981  MASCULINO     SOLTEIRO(A)      BRANCA   \n",
              "2510    20/09/1966   FEMININO     SOLTEIRO(A)      BRANCA   \n",
              "2511    20/12/1980  MASCULINO       CASADO(A)       PARDA   \n",
              "2512    13/11/1970  MASCULINO       CASADO(A)      BRANCA   \n",
              "2513    06/10/1976  MASCULINO       CASADO(A)       PARDA   \n",
              "\n",
              "                                            DS_OCUPACAO  VR_BEM_CANDIDATO  \n",
              "0                                                OUTROS      3.490000e+04  \n",
              "1                                                OUTROS      2.200000e+04  \n",
              "2                                          EMPRESï¿½RIO      6.800000e+05  \n",
              "3     LOCUTOR E COMENTARISTA DE Rï¿½DIO E TELEVISï¿½...               NaN  \n",
              "4                                              VEREADOR      1.592013e+05  \n",
              "...                                                 ...               ...  \n",
              "2509                        PROFESSOR DE ENSINO Mï¿½DIO               NaN  \n",
              "2510             APOSENTADO (EXCETO SERVIDOR Pï¿½BLICO)               NaN  \n",
              "2511                                       EMPRESï¿½RIO      4.500000e+04  \n",
              "2512                                         ENGENHEIRO      2.537668e+06  \n",
              "2513                                             OUTROS               NaN  \n",
              "\n",
              "[2514 rows x 9 columns]"
            ],
            "text/html": [
              "\n",
              "  <div id=\"df-8a494fe0-0f56-413f-8480-6ae6e9a420b7\">\n",
              "    <div class=\"colab-df-container\">\n",
              "      <div>\n",
              "<style scoped>\n",
              "    .dataframe tbody tr th:only-of-type {\n",
              "        vertical-align: middle;\n",
              "    }\n",
              "\n",
              "    .dataframe tbody tr th {\n",
              "        vertical-align: top;\n",
              "    }\n",
              "\n",
              "    .dataframe thead th {\n",
              "        text-align: right;\n",
              "    }\n",
              "</style>\n",
              "<table border=\"1\" class=\"dataframe\">\n",
              "  <thead>\n",
              "    <tr style=\"text-align: right;\">\n",
              "      <th></th>\n",
              "      <th>DS_CARGO</th>\n",
              "      <th>SQ_CANDIDATO</th>\n",
              "      <th>NM_CANDIDATO</th>\n",
              "      <th>DT_NASCIMENTO</th>\n",
              "      <th>DS_GENERO</th>\n",
              "      <th>DS_ESTADO_CIVIL</th>\n",
              "      <th>DS_COR_RACA</th>\n",
              "      <th>DS_OCUPACAO</th>\n",
              "      <th>VR_BEM_CANDIDATO</th>\n",
              "    </tr>\n",
              "  </thead>\n",
              "  <tbody>\n",
              "    <tr>\n",
              "      <th>0</th>\n",
              "      <td>DEPUTADO ESTADUAL</td>\n",
              "      <td>130001607719</td>\n",
              "      <td>JARDEL MOIA MONTEIRO</td>\n",
              "      <td>24/01/1984</td>\n",
              "      <td>MASCULINO</td>\n",
              "      <td>CASADO(A)</td>\n",
              "      <td>PARDA</td>\n",
              "      <td>OUTROS</td>\n",
              "      <td>3.490000e+04</td>\n",
              "    </tr>\n",
              "    <tr>\n",
              "      <th>1</th>\n",
              "      <td>DEPUTADO ESTADUAL</td>\n",
              "      <td>130001615626</td>\n",
              "      <td>REINALDO LUCIO DA SILVA</td>\n",
              "      <td>30/08/1972</td>\n",
              "      <td>MASCULINO</td>\n",
              "      <td>CASADO(A)</td>\n",
              "      <td>PARDA</td>\n",
              "      <td>OUTROS</td>\n",
              "      <td>2.200000e+04</td>\n",
              "    </tr>\n",
              "    <tr>\n",
              "      <th>2</th>\n",
              "      <td>DEPUTADO ESTADUAL</td>\n",
              "      <td>130001634278</td>\n",
              "      <td>ELIES GOMES COSTA</td>\n",
              "      <td>23/02/1997</td>\n",
              "      <td>MASCULINO</td>\n",
              "      <td>CASADO(A)</td>\n",
              "      <td>PARDA</td>\n",
              "      <td>EMPRESï¿½RIO</td>\n",
              "      <td>6.800000e+05</td>\n",
              "    </tr>\n",
              "    <tr>\n",
              "      <th>3</th>\n",
              "      <td>DEPUTADO ESTADUAL</td>\n",
              "      <td>130001669318</td>\n",
              "      <td>JOSE GONZAGA DE SOUZA</td>\n",
              "      <td>19/05/1961</td>\n",
              "      <td>MASCULINO</td>\n",
              "      <td>CASADO(A)</td>\n",
              "      <td>PRETA</td>\n",
              "      <td>LOCUTOR E COMENTARISTA DE Rï¿½DIO E TELEVISï¿½...</td>\n",
              "      <td>NaN</td>\n",
              "    </tr>\n",
              "    <tr>\n",
              "      <th>4</th>\n",
              "      <td>DEPUTADO ESTADUAL</td>\n",
              "      <td>130001607418</td>\n",
              "      <td>SILVIA DA CRUZ MESSIAS</td>\n",
              "      <td>13/08/1964</td>\n",
              "      <td>FEMININO</td>\n",
              "      <td>CASADO(A)</td>\n",
              "      <td>BRANCA</td>\n",
              "      <td>VEREADOR</td>\n",
              "      <td>1.592013e+05</td>\n",
              "    </tr>\n",
              "    <tr>\n",
              "      <th>...</th>\n",
              "      <td>...</td>\n",
              "      <td>...</td>\n",
              "      <td>...</td>\n",
              "      <td>...</td>\n",
              "      <td>...</td>\n",
              "      <td>...</td>\n",
              "      <td>...</td>\n",
              "      <td>...</td>\n",
              "      <td>...</td>\n",
              "    </tr>\n",
              "    <tr>\n",
              "      <th>2509</th>\n",
              "      <td>DEPUTADO FEDERAL</td>\n",
              "      <td>130001607279</td>\n",
              "      <td>DINEY LENON DE PAULO</td>\n",
              "      <td>16/06/1981</td>\n",
              "      <td>MASCULINO</td>\n",
              "      <td>SOLTEIRO(A)</td>\n",
              "      <td>BRANCA</td>\n",
              "      <td>PROFESSOR DE ENSINO Mï¿½DIO</td>\n",
              "      <td>NaN</td>\n",
              "    </tr>\n",
              "    <tr>\n",
              "      <th>2510</th>\n",
              "      <td>DEPUTADO FEDERAL</td>\n",
              "      <td>130001606187</td>\n",
              "      <td>ANGELITA MOREIRA ROCHA</td>\n",
              "      <td>20/09/1966</td>\n",
              "      <td>FEMININO</td>\n",
              "      <td>SOLTEIRO(A)</td>\n",
              "      <td>BRANCA</td>\n",
              "      <td>APOSENTADO (EXCETO SERVIDOR Pï¿½BLICO)</td>\n",
              "      <td>NaN</td>\n",
              "    </tr>\n",
              "    <tr>\n",
              "      <th>2511</th>\n",
              "      <td>DEPUTADO FEDERAL</td>\n",
              "      <td>130001606191</td>\n",
              "      <td>ERICK SANTOS NAZARETH</td>\n",
              "      <td>20/12/1980</td>\n",
              "      <td>MASCULINO</td>\n",
              "      <td>CASADO(A)</td>\n",
              "      <td>PARDA</td>\n",
              "      <td>EMPRESï¿½RIO</td>\n",
              "      <td>4.500000e+04</td>\n",
              "    </tr>\n",
              "    <tr>\n",
              "      <th>2512</th>\n",
              "      <td>DEPUTADO FEDERAL</td>\n",
              "      <td>130001607565</td>\n",
              "      <td>RICARDO GONï¿½ALVES CAMPOS</td>\n",
              "      <td>13/11/1970</td>\n",
              "      <td>MASCULINO</td>\n",
              "      <td>CASADO(A)</td>\n",
              "      <td>BRANCA</td>\n",
              "      <td>ENGENHEIRO</td>\n",
              "      <td>2.537668e+06</td>\n",
              "    </tr>\n",
              "    <tr>\n",
              "      <th>2513</th>\n",
              "      <td>DEPUTADO FEDERAL</td>\n",
              "      <td>130001668937</td>\n",
              "      <td>NEIRONILSON FREITAS DA COSTA</td>\n",
              "      <td>06/10/1976</td>\n",
              "      <td>MASCULINO</td>\n",
              "      <td>CASADO(A)</td>\n",
              "      <td>PARDA</td>\n",
              "      <td>OUTROS</td>\n",
              "      <td>NaN</td>\n",
              "    </tr>\n",
              "  </tbody>\n",
              "</table>\n",
              "<p>2514 rows × 9 columns</p>\n",
              "</div>\n",
              "      <button class=\"colab-df-convert\" onclick=\"convertToInteractive('df-8a494fe0-0f56-413f-8480-6ae6e9a420b7')\"\n",
              "              title=\"Convert this dataframe to an interactive table.\"\n",
              "              style=\"display:none;\">\n",
              "        \n",
              "  <svg xmlns=\"http://www.w3.org/2000/svg\" height=\"24px\"viewBox=\"0 0 24 24\"\n",
              "       width=\"24px\">\n",
              "    <path d=\"M0 0h24v24H0V0z\" fill=\"none\"/>\n",
              "    <path d=\"M18.56 5.44l.94 2.06.94-2.06 2.06-.94-2.06-.94-.94-2.06-.94 2.06-2.06.94zm-11 1L8.5 8.5l.94-2.06 2.06-.94-2.06-.94L8.5 2.5l-.94 2.06-2.06.94zm10 10l.94 2.06.94-2.06 2.06-.94-2.06-.94-.94-2.06-.94 2.06-2.06.94z\"/><path d=\"M17.41 7.96l-1.37-1.37c-.4-.4-.92-.59-1.43-.59-.52 0-1.04.2-1.43.59L10.3 9.45l-7.72 7.72c-.78.78-.78 2.05 0 2.83L4 21.41c.39.39.9.59 1.41.59.51 0 1.02-.2 1.41-.59l7.78-7.78 2.81-2.81c.8-.78.8-2.07 0-2.86zM5.41 20L4 18.59l7.72-7.72 1.47 1.35L5.41 20z\"/>\n",
              "  </svg>\n",
              "      </button>\n",
              "      \n",
              "  <style>\n",
              "    .colab-df-container {\n",
              "      display:flex;\n",
              "      flex-wrap:wrap;\n",
              "      gap: 12px;\n",
              "    }\n",
              "\n",
              "    .colab-df-convert {\n",
              "      background-color: #E8F0FE;\n",
              "      border: none;\n",
              "      border-radius: 50%;\n",
              "      cursor: pointer;\n",
              "      display: none;\n",
              "      fill: #1967D2;\n",
              "      height: 32px;\n",
              "      padding: 0 0 0 0;\n",
              "      width: 32px;\n",
              "    }\n",
              "\n",
              "    .colab-df-convert:hover {\n",
              "      background-color: #E2EBFA;\n",
              "      box-shadow: 0px 1px 2px rgba(60, 64, 67, 0.3), 0px 1px 3px 1px rgba(60, 64, 67, 0.15);\n",
              "      fill: #174EA6;\n",
              "    }\n",
              "\n",
              "    [theme=dark] .colab-df-convert {\n",
              "      background-color: #3B4455;\n",
              "      fill: #D2E3FC;\n",
              "    }\n",
              "\n",
              "    [theme=dark] .colab-df-convert:hover {\n",
              "      background-color: #434B5C;\n",
              "      box-shadow: 0px 1px 3px 1px rgba(0, 0, 0, 0.15);\n",
              "      filter: drop-shadow(0px 1px 2px rgba(0, 0, 0, 0.3));\n",
              "      fill: #FFFFFF;\n",
              "    }\n",
              "  </style>\n",
              "\n",
              "      <script>\n",
              "        const buttonEl =\n",
              "          document.querySelector('#df-8a494fe0-0f56-413f-8480-6ae6e9a420b7 button.colab-df-convert');\n",
              "        buttonEl.style.display =\n",
              "          google.colab.kernel.accessAllowed ? 'block' : 'none';\n",
              "\n",
              "        async function convertToInteractive(key) {\n",
              "          const element = document.querySelector('#df-8a494fe0-0f56-413f-8480-6ae6e9a420b7');\n",
              "          const dataTable =\n",
              "            await google.colab.kernel.invokeFunction('convertToInteractive',\n",
              "                                                     [key], {});\n",
              "          if (!dataTable) return;\n",
              "\n",
              "          const docLinkHtml = 'Like what you see? Visit the ' +\n",
              "            '<a target=\"_blank\" href=https://colab.research.google.com/notebooks/data_table.ipynb>data table notebook</a>'\n",
              "            + ' to learn more about interactive tables.';\n",
              "          element.innerHTML = '';\n",
              "          dataTable['output_type'] = 'display_data';\n",
              "          await google.colab.output.renderOutput(dataTable, element);\n",
              "          const docLink = document.createElement('div');\n",
              "          docLink.innerHTML = docLinkHtml;\n",
              "          element.appendChild(docLink);\n",
              "        }\n",
              "      </script>\n",
              "    </div>\n",
              "  </div>\n",
              "  "
            ]
          },
          "metadata": {},
          "execution_count": 8
        }
      ]
    },
    {
      "cell_type": "markdown",
      "source": [
        "- Quantidade de deputados estaduais e federais respectivamente"
      ],
      "metadata": {
        "id": "hj5ucYyXqBB7"
      }
    },
    {
      "cell_type": "code",
      "source": [
        "num_cargos = registroCand['DS_CARGO'].value_counts()\n",
        "num_cargos.plot(kind='pie', autopct=\"%.2f\")"
      ],
      "metadata": {
        "colab": {
          "base_uri": "https://localhost:8080/",
          "height": 265
        },
        "id": "PwfzKPN5hNcI",
        "outputId": "6c2d66a7-5c17-4300-e08e-0595f8040aed"
      },
      "execution_count": 13,
      "outputs": [
        {
          "output_type": "execute_result",
          "data": {
            "text/plain": [
              "<matplotlib.axes._subplots.AxesSubplot at 0x7f27250d7fa0>"
            ]
          },
          "metadata": {},
          "execution_count": 13
        },
        {
          "output_type": "display_data",
          "data": {
            "text/plain": [
              "<Figure size 432x288 with 1 Axes>"
            ],
            "image/png": "[encoded data removed]"
          },
          "metadata": {}
        }
      ]
    },
    {
      "cell_type": "code",
      "source": [
        "num_genero = registroCand['DS_GENERO'].value_counts()\n",
        "num_genero.plot(kind='pie', autopct=\"%.2f\")"
      ],
      "metadata": {
        "colab": {
          "base_uri": "https://localhost:8080/",
          "height": 265
        },
        "id": "YWy5_zWup7l9",
        "outputId": "f7548588-5f81-4d91-f353-d916d58b1093"
      },
      "execution_count": 14,
      "outputs": [
        {
          "output_type": "execute_result",
          "data": {
            "text/plain": [
              "<matplotlib.axes._subplots.AxesSubplot at 0x7f2725046d60>"
            ]
          },
          "metadata": {},
          "execution_count": 14
        },
        {
          "output_type": "display_data",
          "data": {
            "text/plain": [
              "<Figure size 432x288 with 1 Axes>"
            ],
            "image/png": "[encoded data removed]"
          },
          "metadata": {}
        }
      ]
    },
    {
      "cell_type": "code",
      "source": [
        "num_cor_raca = registroCand['DS_COR_RACA'].value_counts()\n",
        "num_cor_raca.plot(kind='pie', autopct=\"%.2f\")"
      ],
      "metadata": {
        "colab": {
          "base_uri": "https://localhost:8080/",
          "height": 265
        },
        "id": "-Efg_1ziqh1Z",
        "outputId": "0c7cb7d4-aaa9-49b3-9fee-e4c0bc0e7f41"
      },
      "execution_count": 15,
      "outputs": [
        {
          "output_type": "execute_result",
          "data": {
            "text/plain": [
              "<matplotlib.axes._subplots.AxesSubplot at 0x7f27250090d0>"
            ]
          },
          "metadata": {},
          "execution_count": 15
        },
        {
          "output_type": "display_data",
          "data": {
            "text/plain": [
              "<Figure size 432x288 with 1 Axes>"
            ],
            "image/png": "[encoded data removed]"
          },
          "metadata": {}
        }
      ]
    },
    {
      "cell_type": "code",
      "source": [
        "registroCand.to_csv('classificador-pefil-voto-candidato/database/registro_candidato.csv')"
      ],
      "metadata": {
        "id": "mMoPTc8trFix"
      },
      "execution_count": 17,
      "outputs": []
    },
    {
      "cell_type": "code",
      "source": [],
      "metadata": {
        "id": "qG4EQtmlrhoI"
      },
      "execution_count": null,
      "outputs": []
    }
  ]
}